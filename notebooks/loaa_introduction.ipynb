{
 "cells": [
  {
   "cell_type": "markdown",
   "metadata": {},
   "source": [
    "# A Comprehensive Introduction of Medusa\n",
    "Sept, 2023 | 45 min | Yuhong Li"
   ]
  },
  {
   "cell_type": "code",
   "execution_count": 1,
   "metadata": {},
   "outputs": [
    {
     "name": "stderr",
     "output_type": "stream",
     "text": [
      "/home/taehyeon/miniconda3/envs/loaa/lib/python3.9/site-packages/tqdm/auto.py:21: TqdmWarning: IProgress not found. Please update jupyter and ipywidgets. See https://ipywidgets.readthedocs.io/en/stable/user_install.html\n",
      "  from .autonotebook import tqdm as notebook_tqdm\n"
     ]
    }
   ],
   "source": [
    "import os\n",
    "os.environ[\"CUDA_VISIBLE_DEVICES\"] = \"6\" # define GPU id, remove if you want to use all GPUs available\n",
    "import torch\n",
    "from contextlib import contextmanager\n",
    "import numpy as np\n",
    "from loaa.model.loaa_model import LoaaModel\n",
    "from loaa.model.kv_cache import *\n",
    "from loaa.model.utils import *\n",
    "from loaa.model.loaa_choices import *\n",
    "from copy import deepcopy\n",
    "import matplotlib.pyplot as plt\n",
    "from loaa.model.modeling_llama_kv import LlamaForCausalLM as KVLlamaForCausalLM\n",
    "\n",
    "import transformers\n",
    "from loaa.model.loaa_model import LoaaModel, LoaaConfig\n",
    "from safetensors.torch import load_file\n"
   ]
  },
  {
   "cell_type": "markdown",
   "metadata": {},
   "source": [
    "## How LLM inference?\n",
    "\n",
    "In this section, we will illustrate LLM inference with KV cache mechanism.\n",
    "\n",
    "The Key-Value (KV) cache mechanism serves as a rapid-access storage during inference. By retaining the model's intermediate KV features from previous inferences in this cache, computation time can be substantially reduced.\n",
    "\n",
    "\n",
    "Consider an example where the incoming input token has a shape of `[1, 1]`, denoting a batch_size of 1 and a sequence_length of 1. If the model has prior intermediate KV features stored in the cache, the inference will proceed as follows:\n",
    "\n",
    "\n",
    "1. **Embedding Mapping**: The model transforms the input token into an embedding vector, resulting in a shape of `[1, 1, hidden_size]`.\n",
    "\n",
    "2. **Forward through FFN**: This embedded vector is then passed through the Feed Forward Network (FFN) module, yielding an output with the same shape: `[1, 1, hidden_size]`.\n",
    "\n",
    "3. **Attention Mechanism**: \n",
    "\n",
    "    * The query vector for the current token is reshaped and transformed from `[1, 1, hidden_size]` to `[1, 1, num_heads, head_dim]` to `[1, num_heads, 1, head_dim]`.\n",
    "    * The cached intermediate KV vectors from previous inferences have the shape `[1, num_heads, prev_kv_seq_len, head_dim]`.\n",
    "    * Current KV vectors are concatenated with these cached KV vectors, resulting in a new shape of `[1, num_heads, prev_kv_seq_len + 1, head_dim]`.\n",
    "    * Hence, the QK matrix's shape is `[1, num_heads, 1, head_dim] x [1, num_heads, head_dim, prev_kv_seq_len + 1]` -> `[1, num_heads, 1, prev_kv_seq_len + 1]`.\n",
    "    * The (QK)V matrix's shape is `[1, num_heads, 1, prev_kv_seq_len + 1] x [1, num_heads, prev_kv_seq_len + 1, head_dim]` -> `[1, num_heads, 1, head_dim]`.\n",
    "    * The output is transformed and reshaped to `[1, 1, hidden_size]`.\n",
    "\n",
    "Without the KV cache mechanism, the inference will proceed the **whole sequence** each time, resulting in significantly larger QK matrix and slower FFN computation.\n",
    "\n",
    "If you want to know more about KV cache, please refer to the awesome [blog](https://www.dipkumar.dev/becoming-the-unbeatable/posts/gpt-kvcache/).\n",
    "\n",
    "Let's try an example with KV cache inference:"
   ]
  },
  {
   "cell_type": "code",
   "execution_count": 2,
   "metadata": {},
   "outputs": [
    {
     "name": "stderr",
     "output_type": "stream",
     "text": [
      "Loading checkpoint shards: 100%|██████████| 2/2 [00:13<00:00,  6.59s/it]\n",
      "You are using the default legacy behaviour of the <class 'transformers.models.llama.tokenization_llama.LlamaTokenizer'>. This is expected, and simply means that the `legacy` (previous) behavior will be used so nothing changes for you. If you want to use the new behaviour, set `legacy=False`. This should only be set if you understand what it means, and thouroughly read the reason why this was added as explained in https://github.com/huggingface/transformers/pull/24565\n"
     ]
    }
   ],
   "source": [
    "model_name_or_path = 'lmsys/vicuna-7b-v1.3'\n",
    "CACHE_DIR = '/mnt/data1/taehyeon/'\n",
    "\n",
    "config = transformers.AutoConfig.from_pretrained(\n",
    "        model_name_or_path,\n",
    "        cache_dir=CACHE_DIR,\n",
    "    )\n",
    "\n",
    "model = KVLlamaForCausalLM.from_pretrained(\n",
    "    model_name_or_path,\n",
    "    config=config,\n",
    "    cache_dir=CACHE_DIR,\n",
    "    torch_dtype=torch.bfloat16,\n",
    ")\n",
    "\n",
    "loaa_config = LoaaConfig(\n",
    "    loaa_num_heads=6,\n",
    "    loaa_num_layers=1,\n",
    "    loaa_width = 0.25,\n",
    "    base_model_name_or_path=model_name_or_path,\n",
    "    shortcut = True,\n",
    "    cache_dir=CACHE_DIR,\n",
    ")\n",
    "\n",
    "model = LoaaModel(loaa_config, model)"
   ]
  },
  {
   "cell_type": "code",
   "execution_count": 3,
   "metadata": {},
   "outputs": [],
   "source": [
    "loaa_path = '../loaa_6_width_0.25_self_shortcut/loaa_lm_head.safetensors'\n",
    "state_dict = load_file(loaa_path)\n",
    "model.loaa_head.load_state_dict(state_dict, strict=True)\n",
    "model.loaa_head = model.loaa_head.bfloat16()\n",
    "\n",
    "model = model.cuda()\n",
    "tokenizer = model.get_tokenizer()"
   ]
  },
  {
   "cell_type": "markdown",
   "metadata": {},
   "source": [
    "### Initialize the kv_cache"
   ]
  },
  {
   "cell_type": "code",
   "execution_count": 4,
   "metadata": {},
   "outputs": [],
   "source": [
    "past_key_values, past_key_values_data, current_length_data = initialize_past_key_values(model.base_model)\n",
    "model.past_key_values = past_key_values\n",
    "model.past_key_values_data = past_key_values_data\n",
    "model.current_length_data = current_length_data"
   ]
  },
  {
   "cell_type": "markdown",
   "metadata": {},
   "source": [
    "### Set the prompt\n",
    "\n",
    "The prompt is as follow:\n",
    "\n",
    "A chat between a curious user and an artificial intelligence assistant. The assistant gives helpful, detailed, and polite answers to the user's questions. USER: Hi, could you share a tale about a charming llama that grows Medusa-like hair and starts its own coffee shop? ASSISTANT:"
   ]
  },
  {
   "cell_type": "code",
   "execution_count": 5,
   "metadata": {},
   "outputs": [
    {
     "name": "stdout",
     "output_type": "stream",
     "text": [
      "A chat between a curious user and an artificial intelligence assistant. The assistant gives helpful, detailed, and polite answers to the user's questions. USER: Hi, could you share a tale about a charming llama that grows Medusa-like hair and starts its own coffee shop? ASSISTANT:\n",
      "Input token length: 66\n",
      "Init KV cache shape for attention modules: (1, 32, 0, 128) (1, 32, 0, 128)\n"
     ]
    }
   ],
   "source": [
    "model.current_length_data.zero_() # this is for rerun\n",
    "prompt = \"A chat between a curious user and an artificial intelligence assistant. The assistant gives helpful, detailed, and polite answers to the user's questions. USER: Hi, could you share a tale about a charming llama that grows Medusa-like hair and starts its own coffee shop? ASSISTANT:\"\n",
    "print(prompt)\n",
    "input_ids = tokenizer([prompt]).input_ids\n",
    "input_len = len(input_ids[0])\n",
    "print('Input token length:', len(input_ids[0]))\n",
    "print('Init KV cache shape for attention modules:', model.past_key_values[0][0].shape, model.past_key_values[0][1].shape)"
   ]
  },
  {
   "cell_type": "markdown",
   "metadata": {},
   "source": [
    "### First inference for all the prompt tokens\n",
    "\n",
    "You can see the input is the prompt which contains 66 tokens. The output is the logits (`batchsize x seq_len x class`) of the predicted next token for each token in the prompt."
   ]
  },
  {
   "cell_type": "code",
   "execution_count": 6,
   "metadata": {},
   "outputs": [
    {
     "name": "stdout",
     "output_type": "stream",
     "text": [
      "66 torch.Size([1, 66, 32000])\n"
     ]
    },
    {
     "data": {
      "text/plain": [
       "torch.Size([2, 1, 66, 4096])"
      ]
     },
     "execution_count": 6,
     "metadata": {},
     "output_type": "execute_result"
    }
   ],
   "source": [
    "output = model.base_model.model(torch.as_tensor(input_ids).cuda(), past_key_values=model.past_key_values,)\n",
    "orig  = model.base_model.lm_head(output[0])\n",
    "print(len((input_ids[0])), orig.shape)\n",
    "orig1 = output[0].clone()\n",
    "new = torch.cat([output[0], orig1], dim=-1)\n",
    "a= torch.chunk(new, 2, dim=-1)\n",
    "torch.stack(a, dim=0).shape"
   ]
  },
  {
   "cell_type": "code",
   "execution_count": 7,
   "metadata": {},
   "outputs": [
    {
     "name": "stdout",
     "output_type": "stream",
     "text": [
      "output shape: torch.Size([1, 66, 32000])\n",
      "KV cache shape for attention modules after first inference: (1, 32, 66, 128) (1, 32, 66, 128)\n",
      "First prediction: ['Once']\n"
     ]
    }
   ],
   "source": [
    "with torch.inference_mode():\n",
    "    model.current_length_data.zero_() # this is for rerun\n",
    "    output = model.base_model(torch.as_tensor(input_ids).cuda(), past_key_values=model.past_key_values,)\n",
    "    print('output shape:', output.logits.shape)\n",
    "    pred = output.logits.argmax(-1)\n",
    "    input_ids[0] = input_ids[0] + pred[0, -1:].tolist()\n",
    "    print('KV cache shape for attention modules after first inference:', model.past_key_values[0][0].shape, model.past_key_values[0][1].shape)\n",
    "    print('First prediction:', tokenizer.batch_decode(pred[..., -1:]))"
   ]
  },
  {
   "cell_type": "markdown",
   "metadata": {},
   "source": [
    "### Second inference using the kv_cache\n",
    "You can see we utilize the KV cache to streamline our computations. Instead of feeding the entire prompt with new tokens to the model again, we only input the token that was predicted in the previous inference step. Notice this time the output `seq_len = 1`."
   ]
  },
  {
   "cell_type": "code",
   "execution_count": 8,
   "metadata": {},
   "outputs": [
    {
     "name": "stdout",
     "output_type": "stream",
     "text": [
      "output shape: torch.Size([1, 1, 32000])\n",
      "KV cache shape for attention modules after second inference: (1, 32, 67, 128) (1, 32, 67, 128)\n",
      "Second prediction: ['upon']\n"
     ]
    }
   ],
   "source": [
    "with torch.inference_mode():\n",
    "    output = model.base_model(pred[..., -1:], past_key_values=model.past_key_values, use_cache=True) # note we only need to put last token in the input_ids\n",
    "    print('output shape:', output.logits.shape)\n",
    "    pred = output.logits.argmax(-1)\n",
    "    input_ids[0] = input_ids[0] + pred[0, -1:].tolist()\n",
    "    print('KV cache shape for attention modules after second inference:', model.past_key_values[0][0].shape, model.past_key_values[0][1].shape)\n",
    "    print('Second prediction:', tokenizer.batch_decode(pred[..., -1:]))"
   ]
  },
  {
   "cell_type": "code",
   "execution_count": 9,
   "metadata": {},
   "outputs": [
    {
     "name": "stdout",
     "output_type": "stream",
     "text": [
      "['a']\n",
      "['time']\n",
      "[',']\n",
      "['in']\n",
      "['a']\n",
      "['small']\n",
      "['village']\n",
      "['nest']\n",
      "['led']\n",
      "['in']\n"
     ]
    }
   ],
   "source": [
    "with torch.inference_mode():\n",
    "    for _ in range(10):\n",
    "        output = model.base_model(pred[..., -1:], past_key_values=model.past_key_values, use_cache=True)\n",
    "        pred = output.logits.argmax(-1)\n",
    "        # pred_topk = output.logits.topk(10, dim = -1).indices[0]\n",
    "        input_ids[0] = input_ids[0] + pred[0, -1:].tolist()\n",
    "        print(tokenizer.batch_decode(pred[..., -1:]))\n",
    "        # print(tokenizer.batch_decode(pred_topk), 'topk:', pred_topk)"
   ]
  },
  {
   "cell_type": "code",
   "execution_count": 10,
   "metadata": {},
   "outputs": [
    {
     "name": "stdout",
     "output_type": "stream",
     "text": [
      "Once upon a time, in a small village nestled in\n"
     ]
    }
   ],
   "source": [
    "print(tokenizer.decode(input_ids[0][-12:]))"
   ]
  },
  {
   "cell_type": "markdown",
   "metadata": {},
   "source": [
    "## Reaching Equilibrium in Model Output\n",
    "\n",
    "A central concept, especially when we discuss Medusa verification, is the equilibrium state of a model's output.\n",
    "\n",
    "Think about a sequence produced by the model. This sequence is composed of two parts:\n",
    "\n",
    "* **Prompt**: This is the initial input given to the model.\n",
    "\n",
    "* **Predictions**: These are the tokens that the model generates in response to the prompt.\n",
    "\n",
    "Merging these segments gives us the entire sequence, `concat([prompt, preds])`. For clarity, let's denote the `prompt` length as `n` and the `preds` length as `k`.\n",
    "\n",
    "One notable characteristic is that if this combined sequence is re-inputted into the model, it reproduces the same predictions. It implies that the pred section of the combined sequence has attained an equilibrium due to the model's generation capacity.\n",
    "\n",
    "For better understanding, here's a visual representation:\n",
    "\n",
    "\n",
    "<table border=\"1\">\n",
    "    <thead>\n",
    "        <tr>\n",
    "            <th>input (<code>prompt</code>)</th>\n",
    "            <td><code>...</code></td>\n",
    "            <td>'shop'</td>\n",
    "            <td>'?'</td>\n",
    "            <td>'A'</td>\n",
    "            <td>'SS'</td>\n",
    "            <td>'IST'</td>\n",
    "            <td>'ANT'</td>\n",
    "            <td>':'</td>\n",
    "        </tr>\n",
    "    </thead>\n",
    "    <tbody>\n",
    "        <tr>\n",
    "            <th>model output</th>\n",
    "            <td><code>...</code></td>\n",
    "            <td>'?'<br>&#9989</td>\n",
    "            <td>'\\n'<br>&#x274C</td>\n",
    "            <td>'story'<br>&#x274C</td>\n",
    "            <td>'S'<br>&#x274C</td>\n",
    "            <td>'\\n'<br>&#x274C</td>\n",
    "            <td>'I'<br>&#x274C</td>\n",
    "            <td><code>...</code></td>\n",
    "        </tr>\n",
    "    </tbody>\n",
    "</table>\n",
    "\n",
    "Cont.\n",
    "\n",
    "<table border=\"1\">\n",
    "    <thead>\n",
    "        <tr>\n",
    "            <th>input (<code>preds</code>)</th>\n",
    "            <td><code>...</code></td>\n",
    "            <td>'Once'</td>\n",
    "            <td>'upon'</td>\n",
    "            <td>'a'</td>\n",
    "            <td>'time'</td>\n",
    "            <td>','</td>\n",
    "            <td>'in'</td>\n",
    "            <td>'a'</td>\n",
    "            <td>'small'</td>\n",
    "            <td>'village'</td>\n",
    "            <td>'nest'</td>\n",
    "            <td>'led'</td>\n",
    "            <td>'in'</td>\n",
    "        </tr>\n",
    "    </thead>\n",
    "    <tbody>\n",
    "        <tr>\n",
    "            <th>model output</th>\n",
    "            <td> 'Once' <br>&#9989</td>\n",
    "            <td>'upon' <br>&#9989</td>\n",
    "            <td>'a' <br>&#9989</td>\n",
    "            <td>'time' <br>&#9989</td>\n",
    "            <td>',' <br>&#9989</td>\n",
    "            <td>'in' <br>&#9989</td>\n",
    "            <td>'a' <br>&#9989</td>\n",
    "            <td>'small' <br>&#9989</td>\n",
    "            <td>'village' <br>&#9989</td>\n",
    "            <td>'nest' <br>&#9989</td>\n",
    "            <td>'led' <br>&#9989</td>\n",
    "            <td>'in' <br>&#9989</td>\n",
    "            <td>'the' </td>\n",
    "        </tr>\n",
    "    </tbody>\n",
    "</table>\n",
    "\n",
    "\n",
    "In this example, the top row displays the input `concat([prompt, preds])`. The second row represents the model's output tokens - essentially shifted input tokens, with the end-result being the upcoming token. While the prompt deviates since it isn't a direct result of the model's generation, the output tokens spanning from `[n - 1: n - 1 + k]` align perfectly with the input tokens from `[n: n + k]`.\n"
   ]
  },
  {
   "cell_type": "code",
   "execution_count": 11,
   "metadata": {},
   "outputs": [
    {
     "name": "stdout",
     "output_type": "stream",
     "text": [
      "['coffee', 'shop', '?', 'A', 'SS', 'IST', 'ANT', ':', 'Once', 'upon', 'a', 'time', ',', 'in', 'a', 'small', 'village', 'nest', 'led', 'in']\n",
      "['shop', '?', '\\n', 'story', 'S', '\\n', 'I', 'Once', 'upon', 'a', 'time', ',', 'in', 'a', 'small', 'village', 'nest', 'led', 'in', 'the']\n"
     ]
    }
   ],
   "source": [
    "with torch.inference_mode():\n",
    "    output = model.base_model(torch.as_tensor(input_ids).cuda()).logits\n",
    "    pred = output.argmax(-1)\n",
    "    print(tokenizer.batch_decode(input_ids[0][-20:]))\n",
    "    print(tokenizer.batch_decode(pred[0,-20:]))"
   ]
  },
  {
   "cell_type": "markdown",
   "metadata": {},
   "source": [
    "### Disturbing the Equilibrium State with a Minor Change\n",
    "\n",
    "To emphasize the sensitivity of the equilibrium state, let's consider another example.\n",
    "\n",
    "\n",
    "From our prior illustration, the sequence \"**Once upon a time, in a small village nestled in**\" had reached an equilibrium state, where feeding this sequence back into the model yielded the same predictions.\n",
    "\n",
    "But what happens when we introduce a minor change to this equilibrium?\n",
    "\n",
    "For the sake of this demonstration, we'll swap the word '**village**' with '**mountain**'. Both of these terms, from grammatical and semantic perspectives, fit well within the tale. Yet, as we'll see, the model's subsequent outputs following the word 'mountain' deviate drastically from our original sequence.\n",
    "\n",
    "Here's the visual representation:\n",
    "\n",
    "\n",
    "<table border=\"1\">\n",
    "    <thead>\n",
    "        <tr>\n",
    "            <th>input</th>\n",
    "            <td><code>...</code></td>\n",
    "            <td>':'</td>\n",
    "            <td>'Once'</td>\n",
    "            <td>'upon'</td>\n",
    "            <td>'a'</td>\n",
    "            <td>'time'</td>\n",
    "            <td>','</td>\n",
    "            <td>'in'</td>\n",
    "            <td>'a'</td>\n",
    "            <td>'small'</td>\n",
    "            <td>'mountain'&#128221</td>\n",
    "            <td>'nest'</td>\n",
    "            <td>'led'</td>\n",
    "            <td>'in'</td>\n",
    "        </tr>\n",
    "    </thead>\n",
    "    <tbody>\n",
    "        <tr>\n",
    "            <th>model output</th>\n",
    "            <td><code>...</code></td>\n",
    "            <td>'Once'<br>&#9989</td>\n",
    "            <td>'upon'<br>&#9989</td>\n",
    "            <td>'a'<br>&#9989</td>\n",
    "            <td>'time'<br>&#9989</td>\n",
    "            <td>','<br>&#9989</td>\n",
    "            <td>'in'<br>&#9989</td>\n",
    "            <td>'a'<br>&#9989</td>\n",
    "            <td>'small'<br>&#9989</td>\n",
    "            <td>'village'<br>&#9989</td>\n",
    "            <td>'village'<br>&#x274C</td>\n",
    "            <td>'led'<br>&#9989</td>\n",
    "            <td>'between'<br>&#x274C</td>\n",
    "            <td>'the'<br>&#10067</td>\n",
    "        </tr>\n",
    "    </tbody>\n",
    "</table>\n"
   ]
  },
  {
   "cell_type": "code",
   "execution_count": 12,
   "metadata": {},
   "outputs": [
    {
     "name": "stdout",
     "output_type": "stream",
     "text": [
      "['coffee', 'shop', '?', 'A', 'SS', 'IST', 'ANT', ':', 'Once', 'upon', 'a', 'time', ',', 'in', 'a', 'small', 'mountain', 'nest', 'led', 'in']\n",
      "['shop', '?', '\\n', 'story', 'S', '\\n', 'I', 'Once', 'upon', 'a', 'time', ',', 'in', 'a', 'small', 'village', 'village', 'led', 'between', 'the']\n"
     ]
    }
   ],
   "source": [
    "with torch.inference_mode():\n",
    "    input_ids_mod = deepcopy(input_ids)\n",
    "    input_ids_mod[0][-4] = 14378 # replace 'village' with 'mountain'\n",
    "    output = model.base_model(torch.as_tensor(input_ids_mod).cuda()).logits\n",
    "    pred = output.argmax(-1)\n",
    "    print(tokenizer.batch_decode(input_ids_mod[0][-20:]))\n",
    "    print(tokenizer.batch_decode(pred[0,-20:]))"
   ]
  },
  {
   "cell_type": "markdown",
   "metadata": {},
   "source": [
    "Now, rethinking the problem in another way. You are given the previous `prompt`, and a fortune teller gazed deep into her crystal ball and whispers, \"Ah, the ancient spirit of Vicuna spoke to me. It said: **Once upon a time, in a small moutain nestled in...**\"\n",
    "\n",
    "Doubt creeps into your mind. Is her prediction genuine? With a mix of skepticism and curiosity, you challenged her, \"Let us perform one inference to validate your foresight.\"\n",
    "\n",
    "You then input the combination of her revelation and the original prompt into the model. Astoundingly, the model's output mirrors her prediction to the letter... until a deviation at the word '**village**'.\n",
    "\n",
    "OK, you might realize the fortune teller is what we called '**speculative decoding**', a small model or Medusa heads that can draft next several tokens for you.\n",
    "\n",
    "For this particular round, let's determine the number of accurate tokens the fortune teller has provided.\n",
    "\n",
    "You initiate a single inference and notice that for the most recent prompt token, '**:**', the model's output is '**Once**'. This is the model's **own** autoregressive generation and it is in the equilibrium state. Even without her, you still know the model will output '**Once**' for the input '**:**'!\n",
    "\n",
    "That means she correctly predicted '**upon a time, in a small**', didn't she?\n",
    "\n",
    "But wait! Something seems off. You verified '**small**' is correct. And what about the output for the input token '**small**'? Since the previous predictions all stay equilibrium, the model's output for 'small', '**village**' should be in the equilibrium state.\n",
    "\n",
    "So eventhough she didn't predict '**village**' correctly, through one inference, you can still get the correct autoregressive result for the input '**small**'!\n",
    "\n",
    "Consider this: in the extreme scenario where the fortune teller is completely off the mark with her predictions, the model would still autonomously generate 1 correct token in response to the prompt.\n",
    "\n",
    "The inference verification inherently ensures a lower bound **1** for correct prediction. In other words, the verification guarantees at least **1** correct token in its predictions.\n",
    "\n",
    "Hence, if everything goes off, the verification is just a regular autoregressive inference. As a result, every step necessitates only one inference for both verification and autoregressive processes."
   ]
  },
  {
   "cell_type": "markdown",
   "metadata": {},
   "source": [
    "## What are Medusa Heads?\n",
    "\n",
    "So what exactly are Medusa heads? At a glance, they might be reminiscent of the language model head in the original architecture, particularly the last layer of a causal Transformer model. However, there's a distinguishing factor. Instead of predicting solely the immediate next token, Medusa heads are designed to predict multiple upcoming tokens. This intriguing feature has its roots in the [Blockwise Parallel Decoding approach](https://arxiv.org/abs/1811.03115). To realize this, each Medusa head is structured as a feed-forward network, and to enhance its efficiency, it is further complemented with a residual connection.\n",
    "\n",
    "We print the Medusa heads' structure below that contains 4 identical module. Each module starts with a residual block, consisting of a linear layer followed by a SiLU activation function, and concludes with another linear layer which outputs the classification results.\n"
   ]
  },
  {
   "cell_type": "code",
   "execution_count": 13,
   "metadata": {},
   "outputs": [
    {
     "name": "stdout",
     "output_type": "stream",
     "text": [
      "ModuleList(\n",
      "  (0-5): 6 x Sequential(\n",
      "    (0): LoaBlock(\n",
      "      (proj): Linear(in_features=4096, out_features=1024, bias=False)\n",
      "      (exp): Linear(in_features=1024, out_features=4096, bias=False)\n",
      "      (act): SiLU()\n",
      "    )\n",
      "  )\n",
      ")\n"
     ]
    }
   ],
   "source": [
    "# see the structure of medusa heads\n",
    "print(model.loaa_head)"
   ]
  },
  {
   "cell_type": "markdown",
   "metadata": {},
   "source": [
    "### Initial inference with Medusa heads\n",
    "\n",
    "Here, we perform the first inference with Medusa heads. We feed the prompt into the model and get the model's head's prediction and the Medusa heads' prediction:\n",
    "\n",
    "<table border=\"1\">\n",
    "    <thead>\n",
    "        <tr>\n",
    "            <th> </th>\n",
    "            <th>Model's head</th>\n",
    "            <th>Medusa head 1</th>\n",
    "            <th>Medusa head 2</th>\n",
    "            <th>Medusa head 3</th>\n",
    "            <th>Medusa head 4</th>\n",
    "        </tr>\n",
    "    </thead>\n",
    "    <tbody>\n",
    "        <tr>\n",
    "            <th> Prediction </th>\n",
    "            <td>'Once'<br>&#9989</td>\n",
    "            <td>'upon'<br>&#10067</td>\n",
    "            <td>'ly'<br>&#10067</td>\n",
    "            <td>'time'<br>&#10067</td>\n",
    "            <td>','<br>&#10067</td>\n",
    "        </tr>\n",
    "    </tbody>\n",
    "</table>\n",
    "\n",
    "Since only the model's head's prediction is in the equilibrium state and the Medusa heads' are unknown, we need to perform second inference to verify the Medusa heads' prediction."
   ]
  },
  {
   "cell_type": "code",
   "execution_count": 14,
   "metadata": {},
   "outputs": [
    {
     "name": "stdout",
     "output_type": "stream",
     "text": [
      "Loaa logits shape: torch.Size([6, 1, 66, 32000]) logits shape: torch.Size([1, 66, 32000])\n"
     ]
    }
   ],
   "source": [
    "with torch.inference_mode():\n",
    "    input_ids = tokenizer([prompt]).input_ids\n",
    "    input_len = len(input_ids[0])\n",
    "    input_ids = torch.as_tensor(input_ids).cuda()\n",
    "    model.current_length_data.zero_() # this is for rerun\n",
    "    loaa_logits, outputs, logits = model(input_ids, output_orig = True, past_key_values=model.past_key_values)\n",
    "print('Loaa logits shape:', loaa_logits.shape, 'logits shape:', logits.shape)"
   ]
  },
  {
   "cell_type": "code",
   "execution_count": 15,
   "metadata": {},
   "outputs": [],
   "source": [
    "output = model.base_model.model(torch.as_tensor(input_ids_mod).cuda(), output_hidden_states=True)"
   ]
  },
  {
   "cell_type": "code",
   "execution_count": 16,
   "metadata": {},
   "outputs": [
    {
     "data": {
      "text/plain": [
       "tensor([[[ 0.2734,  0.1069, -0.3398,  ..., -0.1270,  0.3203,  0.6211],\n",
       "         [ 1.5391,  0.6367,  0.7539,  ..., -0.0097, -1.2344,  0.5312],\n",
       "         [-1.9688,  1.3828,  0.5195,  ..., -1.3125, -0.6016,  1.2734],\n",
       "         ...,\n",
       "         [ 3.0469, -0.0258,  0.1582,  ..., -2.6719,  0.6641,  1.2734],\n",
       "         [ 1.1016, -2.2656,  0.8828,  ..., -2.2500,  0.6680,  2.6875],\n",
       "         [-0.9492,  0.8281, -0.1406,  ..., -0.9258,  1.3125,  4.1875]]],\n",
       "       device='cuda:0', dtype=torch.bfloat16, grad_fn=<MulBackward0>)"
      ]
     },
     "execution_count": 16,
     "metadata": {},
     "output_type": "execute_result"
    }
   ],
   "source": [
    "output.hidden_states[-1]"
   ]
  },
  {
   "cell_type": "code",
   "execution_count": 17,
   "metadata": {},
   "outputs": [
    {
     "name": "stdout",
     "output_type": "stream",
     "text": [
      "[\"2 few with two friend reader and a experienced intelligence language.\\n user provides a and inform answers and accurateite responses to the user'<s> questions.\\nER</s> I, I you help some bit about a personming andama who helps upusa'like hair on how to own cult shop?\\n storyS\\nI Once upon a time, in a small village villageled between the\"]\n"
     ]
    },
    {
     "data": {
      "text/plain": [
       "['the']"
      ]
     },
     "execution_count": 17,
     "metadata": {},
     "output_type": "execute_result"
    }
   ],
   "source": [
    "print(tokenizer.batch_decode(torch.argmax(model.base_model.lm_head(output.hidden_states[-1]), dim=-1)))\n",
    "tokenizer.batch_decode(torch.argmax(model.base_model.lm_head(output.hidden_states[-1]), dim=-1)[:, -1])"
   ]
  },
  {
   "cell_type": "code",
   "execution_count": 18,
   "metadata": {},
   "outputs": [
    {
     "name": "stdout",
     "output_type": "stream",
     "text": [
      "torch.Size([1, 78])\n"
     ]
    },
    {
     "data": {
      "text/plain": [
       "['the']"
      ]
     },
     "execution_count": 18,
     "metadata": {},
     "output_type": "execute_result"
    }
   ],
   "source": [
    "print(torch.argmax(model.base_model.lm_head(model.loaa_head[0](output.hidden_states[-1])), dim=-1).shape)\n",
    "tokenizer.batch_decode(torch.argmax(model.base_model.lm_head(model.loaa_head[0](output.hidden_states[-1])), dim=-1)[:, -1])"
   ]
  },
  {
   "cell_type": "code",
   "execution_count": 19,
   "metadata": {},
   "outputs": [
    {
     "name": "stdout",
     "output_type": "stream",
     "text": [
      "torch.Size([1, 78])\n"
     ]
    },
    {
     "data": {
      "text/plain": [
       "['the']"
      ]
     },
     "execution_count": 19,
     "metadata": {},
     "output_type": "execute_result"
    }
   ],
   "source": [
    "print(torch.argmax(model.base_model.lm_head(model.loaa_head[1](output.hidden_states[-1])), dim=-1).shape)\n",
    "tokenizer.batch_decode(torch.argmax(model.base_model.lm_head(model.loaa_head[0](output.hidden_states[-1])), dim=-1)[:, -1])"
   ]
  },
  {
   "cell_type": "code",
   "execution_count": 20,
   "metadata": {},
   "outputs": [
    {
     "name": "stdout",
     "output_type": "stream",
     "text": [
      "Base model prediction: ['Once']\n",
      "Loaa prediction: ['C', 'C', 'C', 'C', 'C', 'C']\n",
      "Combined prediction: ['Once', 'C', 'C', 'C', 'C', 'C', 'C']\n"
     ]
    }
   ],
   "source": [
    "loaa_pred = torch.argmax(loaa_logits[..., -1, :], dim = -1)\n",
    "pred = torch.argmax(logits[..., -1, :], dim = -1)\n",
    "print('Base model prediction:', tokenizer.batch_decode(pred))\n",
    "print('Loaa prediction:', tokenizer.batch_decode(loaa_pred))\n",
    "preds = torch.cat([pred, loaa_pred[:, 0 ]], dim = -1)\n",
    "print('Combined prediction:', tokenizer.batch_decode(preds))"
   ]
  },
  {
   "cell_type": "markdown",
   "metadata": {},
   "source": [
    "### Second inference with Medusa heads\n",
    "\n",
    "We feed the 5 tokens into the model together with the past KV cache. \n",
    "\n",
    "<table border=\"1\">\n",
    "    <thead>\n",
    "        <tr>\n",
    "            <th>Input</th>\n",
    "            <td>'Once'</td>\n",
    "            <td>'upon'</td>\n",
    "            <td>'ly'</td>\n",
    "            <td>'time'</td>\n",
    "            <td>','</td>\n",
    "        </tr>\n",
    "    </thead>\n",
    "    <tbody>\n",
    "        <tr>\n",
    "            <th>Model output</th>\n",
    "            <td>'upon'<br>&#9989</td>\n",
    "            <td>'a'<br>&#9989</td>\n",
    "            <td>'a'<br>&#x274C</td>\n",
    "            <td>','<br>&#x274C</td>\n",
    "            <td>'in'<br>&#x274C</td>\n",
    "        </tr>\n",
    "    </tbody>\n",
    "</table>\n",
    "\n",
    "Though the Medusa heads only predict '**upon**' correctly, recall from the previous section of the model's equilibrium property, we still can get the correct autoregressive result '**a**' for the input '**upon**'!\n",
    "\n",
    "Let's calculate how many tokens in the equilibrium state we can get from the initial and second inference.\n",
    "\n",
    "* Initial inference: Since we didn't verify the Medusa heads' prediction, we only get 1 token in the equilibrium state, which is the model's head's prediction '**Once**'.\n",
    "* Second inference: We verify the Medusa heads' prediction '**upon**', and we know the next token '**a**' is in the equilibrium state. So we get 2 tokens in the equilibrium state.\n",
    "\n",
    "In total, we get 3 tokens in the equilibrium state. Current acceleration ratio is 3/2 = **1.5x**.\n",
    "\n",
    "Then, we need to prepare the input for the third inference. We combine the '**upon**''s output with its Medusa heads' prediction as the next input.\n",
    "\n",
    "<table border=\"1\">\n",
    "    <thead>\n",
    "        <tr>\n",
    "            <th> </th>\n",
    "            <th>Model's head</th>\n",
    "            <th>Medusa head 1</th>\n",
    "            <th>Medusa head 2</th>\n",
    "            <th>Medusa head 3</th>\n",
    "            <th>Medusa head 4</th>\n",
    "        </tr>\n",
    "    </thead>\n",
    "    <tbody>\n",
    "        <tr>\n",
    "            <th> Prediction </th>\n",
    "            <td>'a'<br>&#9989</td>\n",
    "            <td>'time'<br>&#10067</td>\n",
    "            <td>','<br>&#10067</td>\n",
    "            <td>'there'<br>&#10067</td>\n",
    "            <td>'a'<br>&#10067</td>\n",
    "        </tr>\n",
    "    </tbody>\n",
    "</table>\n",
    "\n",
    "Another tricky thing we have to deal with is that the past KV cache already contains medusa heads' KV cache with total length 66 (`prompt`) + 5 (`preds`) = 71, so we have a KV management system to reset the KV cache to correct length (66 + 2 = 68)."
   ]
  },
  {
   "cell_type": "code",
   "execution_count": 21,
   "metadata": {},
   "outputs": [],
   "source": [
    "with torch.inference_mode():\n",
    "  medusa_logits, outputs, logits = model(preds.cuda().unsqueeze(0), output_orig = True, past_key_values = model.past_key_values)\n"
   ]
  },
  {
   "cell_type": "code",
   "execution_count": 22,
   "metadata": {},
   "outputs": [
    {
     "name": "stdout",
     "output_type": "stream",
     "text": [
      "Base model prediction: ['upon', 'ertain', 'off', 'C', 'C', 'C', 'C']\n",
      "truncated input tokens: [315, 315, 315, 315, 315, 315]\n",
      "Output tokens: [2501, 13946, 2696, 315, 315, 315, 315]\n"
     ]
    }
   ],
   "source": [
    "medusa_pred = torch.argmax(medusa_logits[..., -5:, :], dim = -1)\n",
    "pred = torch.argmax(logits[..., :, :], dim = -1)\n",
    "print('Base model prediction:', tokenizer.batch_decode(pred[0]))\n",
    "print('truncated input tokens:', preds[1:].tolist())\n",
    "print('Output tokens:', pred[0, :].tolist())"
   ]
  },
  {
   "cell_type": "code",
   "execution_count": 23,
   "metadata": {},
   "outputs": [
    {
     "name": "stdout",
     "output_type": "stream",
     "text": [
      "Posterior mask: [0, 0, 0, 1, 1, 1]\n",
      "Accept length: 0\n",
      "Current KV cache length for attention modules: 73\n",
      "Start length: 66 ,current length: 67\n",
      "Combined prediction: ['upon', 'C', 'C', 'C', 'C', 'C', 'C']\n"
     ]
    }
   ],
   "source": [
    "posterior_mask = (\n",
    "            preds[1:] == pred[0, :-1]\n",
    "        ).int()\n",
    "accept_length = torch.cumprod(posterior_mask, dim = -1).sum().item()\n",
    "cur_length = accept_length + input_len + 1\n",
    "print('Posterior mask:', posterior_mask.tolist())\n",
    "print('Accept length:', accept_length)\n",
    "print('Current KV cache length for attention modules:', model.current_length_data[0].item())\n",
    "print('Start length:', input_len, ',current length:', cur_length)\n",
    "# update kv cache\n",
    "model.current_length_data.fill_(cur_length)\n",
    "# create new input\n",
    "preds = torch.cat([pred[:, accept_length], medusa_pred[:,0,accept_length]], dim = -1)\n",
    "print('Combined prediction:', tokenizer.batch_decode(preds))"
   ]
  },
  {
   "cell_type": "markdown",
   "metadata": {},
   "source": [
    "### Third inference with Medusa heads\n",
    "\n",
    "Let's practice another inference and reinforce our understanding!\n",
    "\n",
    "Outputs of the third inference:\n",
    "\n",
    "<table border=\"1\">\n",
    "    <thead>\n",
    "        <tr>\n",
    "            <th>Input</th>\n",
    "            <td>'a'</td>\n",
    "            <td>'time'</td>\n",
    "            <td>','</td>\n",
    "            <td>'there'</td>\n",
    "            <td>'a'</td>\n",
    "        </tr>\n",
    "    </thead>\n",
    "    <tbody>\n",
    "        <tr>\n",
    "            <th>Model output</th>\n",
    "            <td>'time'<br>&#9989</td>\n",
    "            <td>','<br>&#9989</td>\n",
    "            <td>'in'<br>&#9989</td>\n",
    "            <td>'was'<br>&#x274C</td>\n",
    "            <td>'ll'<br>&#x274C</td>\n",
    "        </tr>\n",
    "    </tbody>\n",
    "</table>\n",
    "\n",
    "This time, the model correctly predict '**time**' and '**,**', and '**there**' and '**a**' are incorrect. However, we still get the correct autoregressive result '**in**' for the input '**,**'!\n",
    "\n",
    "So how many tokens the original model outputs, or in the equilibrium state, can we get from the 3 inference?\n",
    "\n",
    "* Initial inference & second inference: see what we discussed above, we get 3 tokens in the equilibrium state.\n",
    "* Third inference: we verify the Medusa heads' prediction '**time**' and '**,**', and the next token '**in**' is in the equilibrium state. So we get 3 tokens in the equilibrium state.\n",
    "\n",
    "In total, we get 6 tokens in the equilibrium state. Acceleration ratio for the first 3 inferences is 6/3 = **2x**.\n",
    "\n",
    "And then, we combine the '**upon**''s output with its Medusa heads' prediction as the next input.\n",
    "\n",
    "<table border=\"1\">\n",
    "    <thead>\n",
    "        <tr>\n",
    "            <th> </th>\n",
    "            <th>Model's head</th>\n",
    "            <th>Medusa head 1</th>\n",
    "            <th>Medusa head 2</th>\n",
    "            <th>Medusa head 3</th>\n",
    "            <th>Medusa head 4</th>\n",
    "        </tr>\n",
    "    </thead>\n",
    "    <tbody>\n",
    "        <tr>\n",
    "            <th> Prediction </th>\n",
    "            <td>'in'<br>&#9989</td>\n",
    "            <td>'a'<br>&#10067</td>\n",
    "            <td>'a'<br>&#10067</td>\n",
    "            <td>'far'<br>&#10067</td>\n",
    "            <td>'off'<br>&#10067</td>\n",
    "        </tr>\n",
    "    </tbody>\n",
    "</table>"
   ]
  },
  {
   "cell_type": "code",
   "execution_count": 24,
   "metadata": {},
   "outputs": [],
   "source": [
    "with torch.inference_mode():\n",
    "    medusa_logits, outputs, logits = model(preds.cuda().unsqueeze(0), output_orig = True, past_key_values = model.past_key_values)"
   ]
  },
  {
   "cell_type": "code",
   "execution_count": 25,
   "metadata": {},
   "outputs": [
    {
     "name": "stdout",
     "output_type": "stream",
     "text": [
      "Base model prediction: ['a', 'off', 'off', 'C', 'C', 'C', 'C']\n",
      "truncated input tokens: [315, 315, 315, 315, 315, 315]\n",
      "Output tokens: [263, 2696, 2696, 315, 315, 315, 315]\n"
     ]
    }
   ],
   "source": [
    "medusa_pred = torch.argmax(medusa_logits[..., -5:, :], dim = -1)\n",
    "pred = torch.argmax(logits[..., :, :], dim = -1)\n",
    "print('Base model prediction:', tokenizer.batch_decode(pred[0]))\n",
    "print('truncated input tokens:', preds[1:].tolist())\n",
    "print('Output tokens:', pred[0, :].tolist())"
   ]
  },
  {
   "cell_type": "code",
   "execution_count": 26,
   "metadata": {},
   "outputs": [
    {
     "name": "stdout",
     "output_type": "stream",
     "text": [
      "Posterior mask: [0, 0, 0, 1, 1, 1]\n",
      "Accept length: 0\n",
      "Current KV cache length for attention modules: 74\n",
      "Start length: 66 current length: 68\n",
      "Combined prediction: ['a', 'C', 'C', 'C', 'C', 'C', 'C']\n"
     ]
    }
   ],
   "source": [
    "posterior_mask = (\n",
    "            preds[1:] == pred[0, :-1]\n",
    "        ).int()\n",
    "accept_length = torch.cumprod(posterior_mask, dim = -1).sum().item()\n",
    "cur_length = accept_length + cur_length + 1\n",
    "print('Posterior mask:', posterior_mask.tolist())\n",
    "print('Accept length:', accept_length)\n",
    "print('Current KV cache length for attention modules:', model.current_length_data[0].item())\n",
    "print('Start length:', input_len, 'current length:', cur_length)\n",
    "# update kv cache\n",
    "model.current_length_data.fill_(cur_length)\n",
    "# create new input\n",
    "preds = torch.cat([pred[:, accept_length], medusa_pred[:,0,accept_length]], dim = -1)\n",
    "print('Combined prediction:', tokenizer.batch_decode(preds))"
   ]
  },
  {
   "cell_type": "markdown",
   "metadata": {},
   "source": [
    "### Let's put it all together!\n",
    "\n",
    "We now have a better understanding of the Medusa heads' inference process. Let's put the entire process together and see the compression ratio we can get for generating the whole conversation."
   ]
  },
  {
   "cell_type": "code",
   "execution_count": 27,
   "metadata": {},
   "outputs": [
    {
     "name": "stdout",
     "output_type": "stream",
     "text": [
      "Prediction @ 1: ['Once']\n",
      "Prediction @ 2: ['upon']\n",
      "Prediction @ 3: ['a']\n",
      "Prediction @ 4: ['time']\n"
     ]
    },
    {
     "name": "stdout",
     "output_type": "stream",
     "text": [
      "Prediction @ 5: [',']\n",
      "Prediction @ 6: ['in']\n",
      "Prediction @ 7: ['a']\n",
      "Prediction @ 8: ['small']\n",
      "Prediction @ 9: ['village']\n",
      "Prediction @ 10: ['nest']\n",
      "Prediction @ 11: ['led']\n",
      "Prediction @ 12: ['in']\n",
      "Prediction @ 13: ['the']\n",
      "Prediction @ 14: ['And']\n",
      "Prediction @ 15: ['es']\n",
      "Prediction @ 16: ['mountains']\n",
      "Prediction @ 17: [',']\n",
      "Prediction @ 18: ['there']\n",
      "Prediction @ 19: ['lived']\n",
      "Prediction @ 20: ['a']\n",
      "Prediction @ 21: ['char']\n",
      "Prediction @ 22: ['ming']\n",
      "Prediction @ 23: ['ll']\n",
      "Prediction @ 24: ['ama']\n",
      "Prediction @ 25: ['named']\n",
      "Prediction @ 26: ['L']\n",
      "Prediction @ 27: ['una']\n",
      "Prediction @ 28: ['.', 'L']\n",
      "Prediction @ 29: ['una']\n",
      "Prediction @ 30: ['was']\n",
      "Prediction @ 31: ['known']\n",
      "Prediction @ 32: ['for']\n",
      "Prediction @ 33: ['her']\n",
      "Prediction @ 34: ['kind']\n",
      "Prediction @ 35: ['heart']\n",
      "Prediction @ 36: ['and']\n",
      "Prediction @ 37: ['her']\n",
      "Prediction @ 38: ['love']\n",
      "Prediction @ 39: ['of']\n",
      "Prediction @ 40: ['coffee']\n",
      "Prediction @ 41: ['.']\n",
      "Prediction @ 42: ['She']\n",
      "Prediction @ 43: ['would']\n",
      "Prediction @ 44: ['often']\n",
      "Prediction @ 45: ['spend']\n",
      "Prediction @ 46: ['her']\n",
      "Prediction @ 47: ['af']\n",
      "Prediction @ 48: ['tern']\n",
      "Prediction @ 49: ['o']\n",
      "Prediction @ 50: ['ons']\n",
      "Prediction @ 51: ['si']\n",
      "Prediction @ 52: ['pping']\n",
      "Prediction @ 53: ['on']\n",
      "Prediction @ 54: ['a']\n",
      "Prediction @ 55: ['ste']\n",
      "Prediction @ 56: ['aming']\n",
      "Prediction @ 57: ['cup']\n",
      "Prediction @ 58: ['of']\n",
      "Prediction @ 59: ['jo']\n",
      "Prediction @ 60: ['e']\n",
      "Prediction @ 61: ['at']\n",
      "Prediction @ 62: ['the']\n",
      "Prediction @ 63: ['local']\n",
      "Prediction @ 64: ['c']\n",
      "Prediction @ 65: ['afé']\n",
      "Prediction @ 66: [',']\n",
      "Prediction @ 67: ['ch']\n",
      "Prediction @ 68: ['atting']\n",
      "Prediction @ 69: ['with']\n",
      "Prediction @ 70: ['the']\n",
      "Prediction @ 71: ['vill']\n",
      "Prediction @ 72: ['agers']\n",
      "Prediction @ 73: ['and']\n",
      "Prediction @ 74: ['enjo']\n",
      "Prediction @ 75: ['ying']\n",
      "Prediction @ 76: ['the']\n",
      "Prediction @ 77: ['warm']\n",
      "Prediction @ 78: ['th']\n",
      "Prediction @ 79: ['of']\n",
      "Prediction @ 80: ['the']\n",
      "Prediction @ 81: ['sun']\n",
      "Prediction @ 82: ['on']\n",
      "Prediction @ 83: ['her']\n",
      "Prediction @ 84: ['back']\n",
      "Prediction @ 85: ['.']\n",
      "Prediction @ 86: ['\\n']\n",
      "Prediction @ 87: ['\\n', 'One']\n",
      "Prediction @ 88: ['day']\n",
      "Prediction @ 89: [',']\n",
      "Prediction @ 90: ['as']\n",
      "Prediction @ 91: ['L']\n",
      "Prediction @ 92: ['una']\n",
      "Prediction @ 93: ['was']\n",
      "Prediction @ 94: ['gra']\n",
      "Prediction @ 95: ['zing']\n",
      "Prediction @ 96: ['on']\n",
      "Prediction @ 97: ['some']\n",
      "Prediction @ 98: ['fresh']\n",
      "Prediction @ 99: ['grass']\n",
      "Prediction @ 100: [',']\n",
      "Prediction @ 101: ['she']\n",
      "Prediction @ 102: ['noticed']\n",
      "Prediction @ 103: ['that']\n",
      "Prediction @ 104: ['her']\n",
      "Prediction @ 105: ['hair']\n",
      "Prediction @ 106: ['was']\n",
      "Prediction @ 107: ['starting']\n",
      "Prediction @ 108: ['to']\n",
      "Prediction @ 109: ['grow']\n",
      "Prediction @ 110: ['longer']\n",
      "Prediction @ 111: ['and']\n",
      "Prediction @ 112: ['th']\n",
      "Prediction @ 113: ['icker']\n",
      "Prediction @ 114: ['.']\n",
      "Prediction @ 115: ['At']\n",
      "Prediction @ 116: ['first']\n",
      "Prediction @ 117: [',']\n",
      "Prediction @ 118: ['she']\n",
      "Prediction @ 119: ['didn']\n",
      "Prediction @ 120: [\"'\"]\n",
      "Prediction @ 121: ['t']\n",
      "Prediction @ 122: ['think']\n",
      "Prediction @ 123: ['much']\n",
      "Prediction @ 124: ['of']\n",
      "Prediction @ 125: ['it']\n",
      "Prediction @ 126: [',']\n",
      "Prediction @ 127: ['but']\n",
      "Prediction @ 128: ['as']\n",
      "Prediction @ 129: ['the']\n",
      "Prediction @ 130: ['days']\n",
      "Prediction @ 131: ['went']\n",
      "Prediction @ 132: ['on']\n",
      "Prediction @ 133: [',']\n",
      "Prediction @ 134: ['her']\n",
      "Prediction @ 135: ['hair']\n",
      "Prediction @ 136: ['continued']\n",
      "Prediction @ 137: ['to']\n",
      "Prediction @ 138: ['grow']\n",
      "Prediction @ 139: ['and']\n",
      "Prediction @ 140: ['change']\n",
      "Prediction @ 141: ['.']\n",
      "Prediction @ 142: ['It']\n",
      "Prediction @ 143: ['became']\n",
      "Prediction @ 144: ['thick']\n",
      "Prediction @ 145: ['and']\n",
      "Prediction @ 146: ['wir']\n",
      "Prediction @ 147: ['y']\n",
      "Prediction @ 148: [',']\n",
      "Prediction @ 149: ['with']\n",
      "Prediction @ 150: ['sharp']\n",
      "Prediction @ 151: ['sp']\n",
      "Prediction @ 152: ['ikes']\n",
      "Prediction @ 153: ['pro']\n",
      "Prediction @ 154: ['tr']\n",
      "Prediction @ 155: ['ud']\n",
      "Prediction @ 156: ['ing']\n",
      "Prediction @ 157: ['from']\n",
      "Prediction @ 158: ['it']\n",
      "Prediction @ 159: ['.']\n",
      "Prediction @ 160: ['\\n']\n",
      "Prediction @ 161: ['\\n', 'L']\n",
      "Prediction @ 162: ['una']\n",
      "Prediction @ 163: ['was']\n",
      "Prediction @ 164: ['confused']\n",
      "Prediction @ 165: ['and']\n",
      "Prediction @ 166: ['a']\n",
      "Prediction @ 167: ['little']\n",
      "Prediction @ 168: ['sc']\n",
      "Prediction @ 169: ['ared']\n",
      "Prediction @ 170: ['by']\n",
      "Prediction @ 171: ['her']\n",
      "Prediction @ 172: ['new']\n",
      "Prediction @ 173: ['appearance']\n",
      "Prediction @ 174: ['.']\n",
      "Prediction @ 175: ['She']\n",
      "Prediction @ 176: ['had']\n",
      "Prediction @ 177: ['always']\n",
      "Prediction @ 178: ['been']\n",
      "Prediction @ 179: ['a']\n",
      "Prediction @ 180: ['gentle']\n",
      "Prediction @ 181: ['creature']\n",
      "Prediction @ 182: [',']\n",
      "Prediction @ 183: ['and']\n",
      "Prediction @ 184: ['she']\n",
      "Prediction @ 185: ['didn']\n",
      "Prediction @ 186: [\"'\"]\n",
      "Prediction @ 187: ['t']\n",
      "Prediction @ 188: ['know']\n",
      "Prediction @ 189: ['how']\n",
      "Prediction @ 190: ['her']\n",
      "Prediction @ 191: ['hair']\n",
      "Prediction @ 192: ['would']\n",
      "Prediction @ 193: ['be']\n",
      "Prediction @ 194: ['received']\n",
      "Prediction @ 195: ['by']\n",
      "Prediction @ 196: ['the']\n",
      "Prediction @ 197: ['vill']\n",
      "Prediction @ 198: ['agers']\n",
      "Prediction @ 199: ['.']\n",
      "Prediction @ 200: ['But']\n",
      "Prediction @ 201: ['she']\n",
      "Prediction @ 202: ['was']\n",
      "Prediction @ 203: ['determined']\n",
      "Prediction @ 204: ['to']\n",
      "Prediction @ 205: ['face']\n",
      "Prediction @ 206: ['the']\n",
      "Prediction @ 207: ['situation']\n",
      "Prediction @ 208: ['head']\n",
      "Prediction @ 209: ['-']\n",
      "Prediction @ 210: ['on']\n",
      "Prediction @ 211: [',']\n",
      "Prediction @ 212: ['and']\n",
      "Prediction @ 213: ['to']\n",
      "Prediction @ 214: ['make']\n",
      "Prediction @ 215: ['the']\n",
      "Prediction @ 216: ['best']\n",
      "Prediction @ 217: ['of']\n",
      "Prediction @ 218: ['it']\n",
      "Prediction @ 219: ['.']\n",
      "Prediction @ 220: ['\\n']\n",
      "Prediction @ 221: ['\\n', 'So']\n",
      "Prediction @ 222: [',']\n",
      "Prediction @ 223: ['L']\n",
      "Prediction @ 224: ['una']\n",
      "Prediction @ 225: ['decided']\n",
      "Prediction @ 226: ['to']\n",
      "Prediction @ 227: ['start']\n",
      "Prediction @ 228: ['her']\n",
      "Prediction @ 229: ['own', 'coffee']\n",
      "Prediction @ 230: ['shop']\n",
      "Prediction @ 231: ['.']\n",
      "Prediction @ 232: ['She']\n",
      "Prediction @ 233: ['knew']\n",
      "Prediction @ 234: ['that']\n",
      "Prediction @ 235: ['she']\n",
      "Prediction @ 236: ['could']\n",
      "Prediction @ 237: ['use']\n",
      "Prediction @ 238: ['her', 'unique']\n",
      "Prediction @ 239: ['appearance']\n",
      "Prediction @ 240: ['to']\n",
      "Prediction @ 241: ['her', 'advantage']\n",
      "Prediction @ 242: [',']\n",
      "Prediction @ 243: ['and']\n",
      "Prediction @ 244: ['that']\n",
      "Prediction @ 245: ['she']\n",
      "Prediction @ 246: ['could']\n",
      "Prediction @ 247: ['offer']\n",
      "Prediction @ 248: ['something']\n",
      "Prediction @ 249: ['special']\n",
      "Prediction @ 250: ['to']\n",
      "Prediction @ 251: ['the', 'vill']\n",
      "Prediction @ 252: ['agers']\n",
      "Prediction @ 253: ['.']\n",
      "Prediction @ 254: ['She']\n",
      "Prediction @ 255: ['gathered']\n",
      "Prediction @ 256: ['some']\n",
      "Prediction @ 257: ['of']\n",
      "Prediction @ 258: ['her']\n",
      "Prediction @ 259: ['favorite']\n",
      "Prediction @ 260: ['coffee']\n",
      "Prediction @ 261: ['be']\n",
      "Prediction @ 262: ['ans']\n",
      "Prediction @ 263: ['and', 'set']\n",
      "Prediction @ 264: ['up']\n",
      "Prediction @ 265: ['a']\n",
      "Prediction @ 266: ['small']\n",
      "Prediction @ 267: ['st']\n",
      "Prediction @ 268: ['all']\n",
      "Prediction @ 269: ['in', 'the']\n",
      "Prediction @ 270: ['village']\n",
      "Prediction @ 271: ['square']\n",
      "Prediction @ 272: ['.']\n",
      "Prediction @ 273: ['\\n']\n",
      "Prediction @ 274: ['\\n']\n",
      "Prediction @ 275: ['The']\n",
      "Prediction @ 276: ['vill']\n",
      "Prediction @ 277: ['agers']\n",
      "Prediction @ 278: ['were']\n",
      "Prediction @ 279: ['initially']\n",
      "Prediction @ 280: ['w']\n",
      "Prediction @ 281: ['ary']\n",
      "Prediction @ 282: ['of']\n",
      "Prediction @ 283: ['L']\n",
      "Prediction @ 284: ['una']\n",
      "Prediction @ 285: ['and']\n",
      "Prediction @ 286: ['her']\n",
      "Prediction @ 287: ['strange']\n",
      "Prediction @ 288: ['new']\n",
      "Prediction @ 289: ['hair']\n",
      "Prediction @ 290: [',', 'but']\n",
      "Prediction @ 291: ['as']\n",
      "Prediction @ 292: ['they']\n",
      "Prediction @ 293: ['tried']\n",
      "Prediction @ 294: ['her']\n",
      "Prediction @ 295: ['coffee']\n",
      "Prediction @ 296: [',', 'they']\n",
      "Prediction @ 297: ['were']\n",
      "Prediction @ 298: ['ple']\n",
      "Prediction @ 299: ['as']\n",
      "Prediction @ 300: ['antly']\n",
      "Prediction @ 301: ['surprised']\n",
      "Prediction @ 302: ['.', 'The']\n",
      "Prediction @ 303: ['rich']\n",
      "Prediction @ 304: [',']\n",
      "Prediction @ 305: ['bold']\n",
      "Prediction @ 306: ['flav']\n",
      "Prediction @ 307: ['or']\n",
      "Prediction @ 308: ['of', 'the']\n",
      "Prediction @ 309: ['be']\n",
      "Prediction @ 310: ['ans']\n",
      "Prediction @ 311: ['was']\n",
      "Prediction @ 312: ['unlike']\n",
      "Prediction @ 313: ['anything']\n",
      "Prediction @ 314: ['they']\n",
      "Prediction @ 315: ['had']\n",
      "Prediction @ 316: ['ever']\n",
      "Prediction @ 317: ['t']\n",
      "Prediction @ 318: ['asted']\n",
      "Prediction @ 319: [',']\n",
      "Prediction @ 320: ['and', 'they']\n",
      "Prediction @ 321: ['were']\n",
      "Prediction @ 322: ['soon']\n",
      "Prediction @ 323: ['hook']\n",
      "Prediction @ 324: ['ed']\n",
      "Prediction @ 325: ['.']\n",
      "Prediction @ 326: ['\\n']\n",
      "Prediction @ 327: ['\\n', 'L']\n",
      "Prediction @ 328: ['una']\n",
      "Prediction @ 329: [\"'\"]\n",
      "Prediction @ 330: ['s']\n",
      "Prediction @ 331: ['coffee']\n",
      "Prediction @ 332: ['shop']\n",
      "Prediction @ 333: ['became']\n",
      "Prediction @ 334: ['the']\n",
      "Prediction @ 335: ['talk']\n",
      "Prediction @ 336: ['of']\n",
      "Prediction @ 337: ['the', 'village']\n",
      "Prediction @ 338: [',']\n",
      "Prediction @ 339: ['and']\n",
      "Prediction @ 340: ['soon']\n",
      "Prediction @ 341: ['she']\n",
      "Prediction @ 342: ['was']\n",
      "Prediction @ 343: ['receiving']\n",
      "Prediction @ 344: ['customers']\n",
      "Prediction @ 345: ['from']\n",
      "Prediction @ 346: ['all']\n",
      "Prediction @ 347: ['over']\n",
      "Prediction @ 348: ['the']\n",
      "Prediction @ 349: ['region']\n",
      "Prediction @ 350: ['.']\n",
      "Prediction @ 351: ['People']\n",
      "Prediction @ 352: ['came']\n",
      "Prediction @ 353: ['to']\n",
      "Prediction @ 354: ['taste']\n",
      "Prediction @ 355: ['the']\n",
      "Prediction @ 356: ['unique']\n",
      "Prediction @ 357: ['flav']\n",
      "Prediction @ 358: ['or']\n",
      "Prediction @ 359: ['of']\n",
      "Prediction @ 360: ['L']\n",
      "Prediction @ 361: ['una']\n",
      "Prediction @ 362: [\"'\"]\n",
      "Prediction @ 363: ['s']\n",
      "Prediction @ 364: ['coffee']\n",
      "Prediction @ 365: [',']\n",
      "Prediction @ 366: ['and']\n",
      "Prediction @ 367: ['to']\n",
      "Prediction @ 368: ['mar']\n",
      "Prediction @ 369: ['vel']\n",
      "Prediction @ 370: ['at']\n",
      "Prediction @ 371: ['her']\n",
      "Prediction @ 372: ['Med']\n",
      "Prediction @ 373: ['usa']\n",
      "Prediction @ 374: ['-']\n",
      "Prediction @ 375: ['like']\n",
      "Prediction @ 376: ['hair']\n",
      "Prediction @ 377: ['.']\n",
      "Prediction @ 378: ['\\n']\n",
      "Prediction @ 379: ['\\n', 'L']\n",
      "Prediction @ 380: ['una']\n",
      "Prediction @ 381: ['was']\n",
      "Prediction @ 382: ['over']\n",
      "Prediction @ 383: ['jo']\n",
      "Prediction @ 384: ['yed']\n",
      "Prediction @ 385: ['by']\n",
      "Prediction @ 386: ['the']\n",
      "Prediction @ 387: ['success']\n",
      "Prediction @ 388: ['of']\n",
      "Prediction @ 389: ['her']\n",
      "Prediction @ 390: ['business']\n",
      "Prediction @ 391: [',']\n",
      "Prediction @ 392: ['and']\n",
      "Prediction @ 393: ['she']\n",
      "Prediction @ 394: ['knew']\n",
      "Prediction @ 395: ['that']\n",
      "Prediction @ 396: ['she']\n",
      "Prediction @ 397: ['had']\n",
      "Prediction @ 398: ['found']\n",
      "Prediction @ 399: ['her']\n",
      "Prediction @ 400: ['true']\n",
      "Prediction @ 401: ['calling']\n",
      "Prediction @ 402: ['.']\n",
      "Prediction @ 403: ['She']\n",
      "Prediction @ 404: ['continued']\n",
      "Prediction @ 405: ['to']\n",
      "Prediction @ 406: ['ro']\n",
      "Prediction @ 407: ['am']\n",
      "Prediction @ 408: ['the']\n",
      "Prediction @ 409: ['mountains']\n",
      "Prediction @ 410: [',']\n",
      "Prediction @ 411: ['gather']\n",
      "Prediction @ 412: ['ing']\n",
      "Prediction @ 413: ['the']\n",
      "Prediction @ 414: ['fin']\n",
      "Prediction @ 415: ['est']\n",
      "Prediction @ 416: ['coffee']\n",
      "Prediction @ 417: ['be', 'ans']\n",
      "Prediction @ 418: ['and']\n",
      "Prediction @ 419: ['sharing']\n",
      "Prediction @ 420: ['her']\n",
      "Prediction @ 421: ['unique']\n",
      "Prediction @ 422: ['bre']\n",
      "Prediction @ 423: ['w']\n",
      "Prediction @ 424: ['with']\n",
      "Prediction @ 425: ['the']\n",
      "Prediction @ 426: ['world']\n",
      "Prediction @ 427: ['.']\n",
      "Prediction @ 428: ['And']\n",
      "Prediction @ 429: ['as']\n",
      "Prediction @ 430: ['she']\n",
      "Prediction @ 431: ['si']\n",
      "Prediction @ 432: ['pped']\n",
      "Prediction @ 433: ['her']\n",
      "Prediction @ 434: ['own']\n",
      "Prediction @ 435: ['coffee']\n",
      "Prediction @ 436: [',']\n",
      "Prediction @ 437: ['she', 'knew']\n",
      "Prediction @ 438: ['that']\n",
      "Prediction @ 439: ['she']\n",
      "Prediction @ 440: ['had']\n",
      "Prediction @ 441: ['truly']\n",
      "Prediction @ 442: ['found']\n",
      "Prediction @ 443: ['her']\n",
      "Prediction @ 444: ['place']\n",
      "Prediction @ 445: ['in']\n",
      "Prediction @ 446: ['the']\n",
      "Prediction @ 447: ['world']\n",
      "Prediction @ 448: ['.']\n",
      "Prediction @ 449: ['</s>']\n"
     ]
    }
   ],
   "source": [
    "inference_count = 0\n",
    "accept_lengths = []\n",
    "with torch.inference_mode():\n",
    "    input_ids = tokenizer([prompt]).input_ids\n",
    "    input_len = len(input_ids[0])\n",
    "    input_ids = torch.as_tensor(input_ids).cuda()\n",
    "    model.current_length_data.zero_() # this is for rerun\n",
    "    medusa_logits, outputs, logits = model(input_ids, output_orig = True, past_key_values=model.past_key_values)\n",
    "    inference_count += 1\n",
    "\n",
    "    medusa_pred = torch.argmax(medusa_logits[..., -1, :], dim = -1)\n",
    "    pred = torch.argmax(logits[..., -1, :], dim = -1)\n",
    "    preds = torch.cat([pred, medusa_pred[:, 0 ]], dim = -1)\n",
    "    print(f'Prediction @ {inference_count}: {tokenizer.batch_decode(pred)}')\n",
    "    cur_length = input_len\n",
    "    accept_lengths.append(1)\n",
    "    for _ in range(1024):\n",
    "        medusa_logits, outputs, logits = model(preds.cuda().unsqueeze(0), output_orig = True, past_key_values = model.past_key_values)\n",
    "        inference_count += 1\n",
    "\n",
    "        medusa_pred = torch.argmax(medusa_logits[..., -5:, :], dim = -1)\n",
    "        pred = torch.argmax(logits[..., :, :], dim = -1)\n",
    "        posterior_mask = (\n",
    "                    preds[1:] == pred[0, :-1]\n",
    "                ).int()\n",
    "        accept_length = torch.cumprod(posterior_mask, dim = -1).sum().item()\n",
    "        cur_length = cur_length + accept_length + 1\n",
    "        # update kv cache\n",
    "        model.current_length_data.fill_(cur_length)\n",
    "        # create new input\n",
    "        preds = torch.cat([pred[:, accept_length], medusa_pred[:,0,accept_length]], dim = -1)\n",
    "        print(f'Prediction @ {inference_count}: {tokenizer.batch_decode(pred[0, :accept_length + 1])}')\n",
    "        accept_lengths.append(accept_length + 1)\n",
    "        if tokenizer.eos_token_id in pred[0, :accept_length + 1]:\n",
    "            break"
   ]
  },
  {
   "cell_type": "code",
   "execution_count": 28,
   "metadata": {},
   "outputs": [
    {
     "name": "stdout",
     "output_type": "stream",
     "text": [
      "Avg. accept length: 1.044543429844098\n"
     ]
    },
    {
     "data": {
      "image/png": "[encoded data removed]",
      "text/plain": [
       "<Figure size 640x480 with 1 Axes>"
      ]
     },
     "metadata": {},
     "output_type": "display_data"
    }
   ],
   "source": [
    "plt.plot(accept_lengths)\n",
    "plt.xlabel('Inference step')\n",
    "plt.ylabel('Accept length')\n",
    "print('Avg. accept length:', np.mean(accept_lengths))"
   ]
  },
  {
   "cell_type": "markdown",
   "metadata": {},
   "source": [
    "## Unleash the power of Medusa by Tree Attention\n",
    "\n",
    "Only a 1.58x speedup? You might think that's underwhelming. However, remember what we implemented in the previous section was merely the list structure of Medusa heads. This means we utilized only the Top-1 prediction from each Medusa head. In this section, we will introduce the Tree Attention mechanism, which is the key to unlocking the full potential of Medusa heads. We show a tree structure of Medusa heads below.\n",
    "\n",
    "<div align=\"center\">\n",
    "  <picture>\n",
    "  <img src=\"../assets/medusa_choices.png\" width=\"100%\">\n",
    "  </picture>\n",
    "  <br>\n",
    "  <div align=\"left\" width=\"80%\">\n",
    "  <em>  We won't dive deep into how this tree was constructed. In simple terms, the tree shows us the optimized paths chosen by an algorithm that looks for the highest accuracy expectations under constraints. At every depth level, childrens from one node moving from left to right shows the top-k selections for each Medusa head. Noticeably, the Top-0 of Medusa head 1 has the most branching out, making the tree tilt more to the left. The left-heavy nature of the tree indicates that the top choices (shallower on the left) tend to have higher accuracy expectations. This suggests that the earliler (head 1 or 2) or topmost (top 1 or 2) choices are more reliable in their predictions. \n",
    "  </em>\n",
    "  </div>\n",
    "  <br>\n",
    "</div>\n",
    "\n",
    "Let's try the tree attention with practical example!\n",
    "\n",
    "### Initial inference with Medusa heads"
   ]
  },
  {
   "cell_type": "code",
   "execution_count": null,
   "metadata": {},
   "outputs": [],
   "source": [
    "with torch.inference_mode():\n",
    "    new_token = 0\n",
    "    input_ids = tokenizer([prompt]).input_ids\n",
    "    input_len = len(input_ids[0])\n",
    "    input_ids = torch.as_tensor(input_ids).cuda()\n",
    "    model.current_length_data.zero_() # this is for rerun\n",
    "    reset_medusa_mode(model)\n",
    "    medusa_buffers = generate_medusa_buffers(\n",
    "                medusa_choices, device=model.base_model.device\n",
    "            )\n",
    "    medusa_logits, logits = initialize_medusa(\n",
    "            input_ids, model, medusa_buffers[\"medusa_attn_mask\"], past_key_values\n",
    "        )"
   ]
  },
  {
   "cell_type": "markdown",
   "metadata": {},
   "source": [
    "We have a function `generate_candidates` to retrieve the top-k predictions on the tree.\n",
    "\n",
    "`tree_candidates` contains the predictions on the nodes of the tree (also include the root node which is the model's head prediction).\n",
    "\n",
    "The `candidates` are all the paths (total 42) from the root node to the leaf nodes, padded with `<unk>` token."
   ]
  },
  {
   "cell_type": "code",
   "execution_count": null,
   "metadata": {},
   "outputs": [],
   "source": [
    "candidates, tree_candidates = generate_candidates(\n",
    "                medusa_logits,\n",
    "                logits,\n",
    "                medusa_buffers[\"tree_indices\"],\n",
    "                medusa_buffers[\"retrieve_indices\"],\n",
    "            )\n",
    "print('Candidates shape:', candidates.shape)\n",
    "print('Tree candidates shape:', tree_candidates.shape)\n",
    "print('Most left 2 candidates path:', tokenizer.batch_decode(candidates[0]), tokenizer.batch_decode(candidates[1]))\n",
    "print('Another candidate path:', tokenizer.batch_decode(candidates[-1]))"
   ]
  },
  {
   "cell_type": "markdown",
   "metadata": {},
   "source": [
    "### Second inference with Medusa heads\n",
    "\n",
    "Like the previous section, we still need to verify the Medusa heads' prediction. Since we perform the greedy decoding, we set the `temperature` to **0.0** and ignore the `posterior_threshold` and `posterior_alpha` parameters. \n",
    "\n",
    "We have two functions, `tree_decoding` and `evaluate_posterior`.\n",
    "\n",
    "The `tree_decoding` performs the tree-attention-based inference.\n",
    "\n",
    "The `evaluate_posterior` performs the verification of the tree."
   ]
  },
  {
   "cell_type": "code",
   "execution_count": null,
   "metadata": {},
   "outputs": [],
   "source": [
    "with torch.inference_mode():\n",
    "    medusa_logits, logits, outputs = tree_decoding(\n",
    "                model,\n",
    "                tree_candidates,\n",
    "                past_key_values,\n",
    "                medusa_buffers[\"medusa_position_ids\"],\n",
    "                input_ids,\n",
    "                medusa_buffers[\"retrieve_indices\"],\n",
    "            )\n",
    "    best_candidate, accept_length = evaluate_posterior(\n",
    "                logits, candidates, temperature = 0, posterior_threshold = 0, posterior_alpha = 0\n",
    "            )\n",
    "    print('Medusa logits shape', medusa_logits.shape)\n",
    "    print('Logits shape', logits.shape)\n",
    "    print('Best candidate path index:', best_candidate.item())\n",
    "    print('Accept length:', accept_length.item())"
   ]
  },
  {
   "cell_type": "markdown",
   "metadata": {},
   "source": [
    "Let's see how the best candidate path looks like."
   ]
  },
  {
   "cell_type": "code",
   "execution_count": null,
   "metadata": {},
   "outputs": [],
   "source": [
    "print('Retrieved input @ best candidate:', tokenizer.batch_decode(candidates[best_candidate.item()]))\n",
    "print('Retrieved output @ best candidate:', tokenizer.batch_decode(logits.argmax(-1)[best_candidate.item()]))\n",
    "\n",
    "print('Retrieved input @ another candidate:', tokenizer.batch_decode(candidates[0]))\n",
    "print('Retrieved output @ another candidate:', tokenizer.batch_decode(logits.argmax(-1)[0]))\n"
   ]
  },
  {
   "cell_type": "markdown",
   "metadata": {},
   "source": [
    "The verification is very, very similar to what we discussed in the previous section, **shift and compare**. \n",
    "\n",
    "Best path looks like this:\n",
    "<table border=\"1\">\n",
    "    <thead>\n",
    "        <tr>\n",
    "            <th>Input</th>\n",
    "            <td>'Once'</td>\n",
    "            <td>'upon'</td>\n",
    "            <td>'a'</td>\n",
    "            <td>'time'</td>\n",
    "            <td>'&lt;unk&gt'</td>\n",
    "        </tr>\n",
    "    </thead>\n",
    "    <tbody>\n",
    "        <tr>\n",
    "            <th>Model output</th>\n",
    "            <td>'upon'<br>&#9989</td>\n",
    "            <td>'a'<br>&#9989</td>\n",
    "            <td>'time'<br>&#9989</td>\n",
    "            <td>','<br>&#x274C</td>\n",
    "            <td>'char'<br>&#x274C</td>\n",
    "        </tr>\n",
    "    </tbody>\n",
    "</table>\n",
    "\n",
    "Another path looks like this:\n",
    "<table border=\"1\">\n",
    "    <thead>\n",
    "        <tr>\n",
    "            <th>Input</th>\n",
    "            <td>'Once'</td>\n",
    "            <td>'upon'</td>\n",
    "            <td>'ly'</td>\n",
    "            <td>'time'</td>\n",
    "            <td>'a'</td>\n",
    "        </tr>\n",
    "    </thead>\n",
    "    <tbody>\n",
    "        <tr>\n",
    "            <th>Model output</th>\n",
    "            <td>'upon'<br>&#9989</td>\n",
    "            <td>'a'<br>&#9989</td>\n",
    "            <td>'a'<br>&#x274C</td>\n",
    "            <td>','<br>&#x274C</td>\n",
    "            <td>'char'<br>&#x274C</td>\n",
    "        </tr>\n",
    "    </tbody>\n",
    "</table>\n",
    "\n",
    "The best path contains more accepted tokens, so it win the competition!\n",
    "\n",
    "Now we will manage the KV cache (as we discussed before) and choose the correct input tokens on the path and it's medusa predictions for next tree."
   ]
  },
  {
   "cell_type": "code",
   "execution_count": null,
   "metadata": {},
   "outputs": [],
   "source": [
    "input_ids, logits, medusa_logits, new_token = update_inference_inputs(\n",
    "                input_ids,\n",
    "                candidates,\n",
    "                best_candidate,\n",
    "                accept_length,\n",
    "                medusa_buffers[\"retrieve_indices\"],\n",
    "                outputs,\n",
    "                logits,\n",
    "                medusa_logits,\n",
    "                new_token,\n",
    "                past_key_values_data,\n",
    "                current_length_data,\n",
    "            )\n",
    "print('Decode:', tokenizer.batch_decode(input_ids[:,input_len:]))"
   ]
  },
  {
   "cell_type": "markdown",
   "metadata": {},
   "source": [
    "### It's time to put all the things together!\n",
    "\n",
    "Below is the whole process of the tree attention inference. The acceleration ratio is boosted from ~1.6X to ~2.4X!"
   ]
  },
  {
   "cell_type": "code",
   "execution_count": null,
   "metadata": {},
   "outputs": [],
   "source": [
    "accept_lengths_tree = []\n",
    "\n",
    "with torch.inference_mode():\n",
    "    new_token = 0\n",
    "    input_ids = tokenizer([prompt]).input_ids\n",
    "    input_len = len(input_ids[0])\n",
    "    input_ids = torch.as_tensor(input_ids).cuda()\n",
    "    model.current_length_data.zero_() # this is for rerun\n",
    "    reset_medusa_mode(model)\n",
    "    medusa_buffers = generate_medusa_buffers(\n",
    "                medusa_choices, device=model.base_model.device\n",
    "            )\n",
    "    medusa_logits, logits = initialize_medusa(\n",
    "            input_ids, model, medusa_buffers[\"medusa_attn_mask\"], past_key_values\n",
    "        )\n",
    "    cur_length = input_len + 1\n",
    "    accept_lengths_tree.append(1)\n",
    "    \n",
    "    for i in range(1024):\n",
    "        candidates, tree_candidates = generate_candidates(\n",
    "                medusa_logits,\n",
    "                logits,\n",
    "                medusa_buffers[\"tree_indices\"],\n",
    "                medusa_buffers[\"retrieve_indices\"],\n",
    "            )\n",
    "        medusa_logits, logits, outputs = tree_decoding(\n",
    "                model,\n",
    "                tree_candidates,\n",
    "                past_key_values,\n",
    "                medusa_buffers[\"medusa_position_ids\"],\n",
    "                input_ids,\n",
    "                medusa_buffers[\"retrieve_indices\"],\n",
    "            )\n",
    "        best_candidate, accept_length = evaluate_posterior(\n",
    "                logits, candidates, temperature = 0, posterior_threshold = 0, posterior_alpha = 0\n",
    "            )\n",
    "        input_ids, logits, medusa_logits, new_token = update_inference_inputs(\n",
    "                input_ids,\n",
    "                candidates,\n",
    "                best_candidate,\n",
    "                accept_length,\n",
    "                medusa_buffers[\"retrieve_indices\"],\n",
    "                outputs,\n",
    "                logits,\n",
    "                medusa_logits,\n",
    "                new_token,\n",
    "                past_key_values_data,\n",
    "                current_length_data,\n",
    "            )\n",
    "        \n",
    "        accept_length_tree = input_ids.shape[1] - cur_length\n",
    "        cur_length = accept_length_tree + cur_length\n",
    "        accept_lengths_tree.append(accept_length_tree)\n",
    "        if model.tokenizer.eos_token_id in input_ids[0, input_len:]:\n",
    "            break\n",
    "print('Decode:', tokenizer.batch_decode(input_ids[:,input_len:]))"
   ]
  },
  {
   "cell_type": "code",
   "execution_count": null,
   "metadata": {},
   "outputs": [],
   "source": [
    "def moving_average(data, window_size=5):\n",
    "    return np.convolve(data, np.ones(window_size)/window_size, mode='valid')\n",
    "\n",
    "# Unsmoothed plots with transparency\n",
    "plt.plot(accept_lengths_tree, label='Tree decoding (Raw)', alpha=0.3)\n",
    "plt.plot(accept_lengths, label='List decoding (Raw)', alpha=0.3)\n",
    "\n",
    "# Smoothed plots\n",
    "window_size = 5  # You can adjust this as needed\n",
    "plt.plot(moving_average(accept_lengths_tree, window_size), label='Tree decoding (Smoothed)', color='tab:blue')\n",
    "plt.plot(moving_average(accept_lengths, window_size), label='List decoding (Smoothed)', color='tab:orange')\n",
    "\n",
    "plt.xlabel('Inference step')\n",
    "plt.ylabel('Accept length')\n",
    "plt.legend()\n",
    "\n",
    "print('Avg. accept tree length:', np.mean(accept_lengths_tree))\n",
    "print('Avg. accept list length:', np.mean(accept_lengths))\n",
    "\n",
    "plt.show()\n"
   ]
  }
 ],
 "metadata": {
  "kernelspec": {
   "display_name": "Python 3",
   "language": "python",
   "name": "python3"
  },
  "language_info": {
   "codemirror_mode": {
    "name": "ipython",
    "version": 3
   },
   "file_extension": ".py",
   "mimetype": "text/x-python",
   "name": "python",
   "nbconvert_exporter": "python",
   "pygments_lexer": "ipython3",
   "version": "3.9.19"
  },
  "orig_nbformat": 4
 },
 "nbformat": 4,
 "nbformat_minor": 2
}
